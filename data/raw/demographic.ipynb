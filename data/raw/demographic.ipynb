{
 "cells": [
  {
   "cell_type": "markdown",
   "metadata": {},
   "source": [
    "**Data Demografica**\n",
    "\n",
    "Solicitud de API Key: https://api.census.gov/data/key_signup.html\n",
    "This df is stored for convenience https://drive.google.com/file/d/1noQW_s9RvEhhrQvxZckXpzbbel975zFm/view"
   ]
  },
  {
   "cell_type": "code",
   "execution_count": null,
   "metadata": {},
   "outputs": [],
   "source": [
    "import pandas as pd\n",
    "from google.colab import files\n",
    "\n",
    "from census import Census\n",
    "from us import states\n",
    "\n",
    "# Add your Census API key\n",
    "c = Census(\"YOUR_CENSUS_API_KEY\")\n",
    "\n",
    "# List of years of interest\n",
    "years = list(range(2010, 2023))\n",
    "\n",
    "# FIPS code for Los Angeles County\n",
    "county_fips = '037'\n",
    "state_fips = states.CA.fips\n",
    "\n",
    "# Variables of interest, including Hispanic or Latino population\n",
    "variables = ('NAME', 'B01003_001E', 'B02001_002E', 'B02001_003E', 'B02001_004E', 'B02001_005E', 'B03001_003E', 'B19013_001E')\n",
    "\n",
    "# List to store the annual DataFrames\n",
    "dfs = []\n",
    "\n",
    "# Fetch data for each year\n",
    "for year in years:\n",
    "    data = c.acs5.state_county_subdivision(variables, state_fips, county_fips, '*', year=year)\n",
    "    df = pd.DataFrame(data)\n",
    "    df['Year'] = year\n",
    "    dfs.append(df)\n",
    "\n",
    "# Concatenate all annual DataFrames into one\n",
    "demographic_data = pd.concat(dfs, ignore_index=True)\n",
    "\n",
    "# Rename columns for clarity\n",
    "demographic_data = demographic_data.rename(columns={\n",
    "    'NAME': 'Area',\n",
    "    'B01003_001E': 'Total Population',\n",
    "    'B02001_002E': 'White',\n",
    "    'B02001_003E': 'Black or African American',\n",
    "    'B02001_004E': 'American Indian and Alaska Native',\n",
    "    'B02001_005E': 'Asian',\n",
    "    'B03001_003E': 'Hispanic or Latino',\n",
    "    'B19013_001E': 'Median Household Income'\n",
    "})\n",
    "\n",
    "pickle_path = '/content/demographic_data.pkl'\n",
    "demographic_data.to_pickle(pickle_path)\n",
    "\n",
    "# Download the pickle file\n",
    "files.download(pickle_path)\n",
    "\n",
    "# Show df\n",
    "demographic_data"
   ]
  }
 ],
 "metadata": {
  "language_info": {
   "name": "python"
  }
 },
 "nbformat": 4,
 "nbformat_minor": 2
}
